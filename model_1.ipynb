{
  "nbformat": 4,
  "nbformat_minor": 0,
  "metadata": {
    "colab": {
      "name": "model_1.ipynb",
      "version": "0.3.2",
      "provenance": [],
      "collapsed_sections": [],
      "include_colab_link": true
    },
    "kernelspec": {
      "name": "python3",
      "display_name": "Python 3"
    },
    "accelerator": "GPU"
  },
  "cells": [
    {
      "cell_type": "markdown",
      "metadata": {
        "id": "view-in-github",
        "colab_type": "text"
      },
      "source": [
        "<a href=\"https://colab.research.google.com/github/AlaEmrani/Generative_Adversarial_networks_LIVE/blob/master/model_1.ipynb\" target=\"_parent\"><img src=\"https://colab.research.google.com/assets/colab-badge.svg\" alt=\"Open In Colab\"/></a>"
      ]
    },
    {
      "metadata": {
        "id": "G2p25KtjPAIA",
        "colab_type": "code",
        "outputId": "5528ff40-e22a-404a-dd47-7d4049018d4d",
        "colab": {
          "base_uri": "https://localhost:8080/",
          "height": 51
        }
      },
      "cell_type": "code",
      "source": [
        "!pip install -U -q PyDrive\n",
        "from pydrive.auth import GoogleAuth\n",
        "from pydrive.drive import GoogleDrive\n",
        "from google.colab import auth\n",
        "from oauth2client.client import GoogleCredentials"
      ],
      "execution_count": 0,
      "outputs": [
        {
          "output_type": "stream",
          "text": [
            "\u001b[?25l\r\u001b[K    1% |▎                               | 10kB 21.7MB/s eta 0:00:01\r\u001b[K    2% |▋                               | 20kB 4.6MB/s eta 0:00:01\r\u001b[K    3% |█                               | 30kB 6.5MB/s eta 0:00:01\r\u001b[K    4% |█▎                              | 40kB 4.2MB/s eta 0:00:01\r\u001b[K    5% |█▋                              | 51kB 5.1MB/s eta 0:00:01\r\u001b[K    6% |██                              | 61kB 6.1MB/s eta 0:00:01\r\u001b[K    7% |██▎                             | 71kB 6.9MB/s eta 0:00:01\r\u001b[K    8% |██▋                             | 81kB 7.7MB/s eta 0:00:01\r\u001b[K    9% |███                             | 92kB 6.2MB/s eta 0:00:01\r\u001b[K    10% |███▎                            | 102kB 6.7MB/s eta 0:00:01\r\u001b[K    11% |███▋                            | 112kB 6.8MB/s eta 0:00:01\r\u001b[K    12% |████                            | 122kB 9.0MB/s eta 0:00:01\r\u001b[K    13% |████▎                           | 133kB 9.0MB/s eta 0:00:01\r\u001b[K    14% |████▋                           | 143kB 15.6MB/s eta 0:00:01\r\u001b[K    15% |█████                           | 153kB 15.7MB/s eta 0:00:01\r\u001b[K    16% |█████▎                          | 163kB 15.7MB/s eta 0:00:01\r\u001b[K    17% |█████▋                          | 174kB 15.4MB/s eta 0:00:01\r\u001b[K    18% |██████                          | 184kB 15.5MB/s eta 0:00:01\r\u001b[K    19% |██████▎                         | 194kB 41.6MB/s eta 0:00:01\r\u001b[K    20% |██████▋                         | 204kB 19.7MB/s eta 0:00:01\r\u001b[K    21% |███████                         | 215kB 20.2MB/s eta 0:00:01\r\u001b[K    22% |███████▎                        | 225kB 20.4MB/s eta 0:00:01\r\u001b[K    23% |███████▋                        | 235kB 20.5MB/s eta 0:00:01\r\u001b[K    24% |████████                        | 245kB 20.5MB/s eta 0:00:01\r\u001b[K    25% |████████▎                       | 256kB 20.2MB/s eta 0:00:01\r\u001b[K    26% |████████▋                       | 266kB 19.1MB/s eta 0:00:01\r\u001b[K    27% |█████████                       | 276kB 19.8MB/s eta 0:00:01\r\u001b[K    29% |█████████▎                      | 286kB 19.7MB/s eta 0:00:01\r\u001b[K    30% |█████████▋                      | 296kB 19.8MB/s eta 0:00:01\r\u001b[K    31% |██████████                      | 307kB 43.9MB/s eta 0:00:01\r\u001b[K    32% |██████████▎                     | 317kB 44.7MB/s eta 0:00:01\r\u001b[K    33% |██████████▋                     | 327kB 44.8MB/s eta 0:00:01\r\u001b[K    34% |███████████                     | 337kB 44.3MB/s eta 0:00:01\r\u001b[K    35% |███████████▎                    | 348kB 40.4MB/s eta 0:00:01\r\u001b[K    36% |███████████▋                    | 358kB 41.8MB/s eta 0:00:01\r\u001b[K    37% |████████████                    | 368kB 47.2MB/s eta 0:00:01\r\u001b[K    38% |████████████▎                   | 378kB 48.0MB/s eta 0:00:01\r\u001b[K    39% |████████████▋                   | 389kB 48.1MB/s eta 0:00:01\r\u001b[K    40% |█████████████                   | 399kB 34.4MB/s eta 0:00:01\r\u001b[K    41% |█████████████▎                  | 409kB 33.3MB/s eta 0:00:01\r\u001b[K    42% |█████████████▋                  | 419kB 32.3MB/s eta 0:00:01\r\u001b[K    43% |██████████████                  | 430kB 31.9MB/s eta 0:00:01\r\u001b[K    44% |██████████████▎                 | 440kB 32.8MB/s eta 0:00:01\r\u001b[K    45% |██████████████▋                 | 450kB 33.5MB/s eta 0:00:01\r\u001b[K    46% |███████████████                 | 460kB 33.6MB/s eta 0:00:01\r\u001b[K    47% |███████████████▎                | 471kB 33.7MB/s eta 0:00:01\r\u001b[K    48% |███████████████▋                | 481kB 33.3MB/s eta 0:00:01\r\u001b[K    49% |████████████████                | 491kB 33.5MB/s eta 0:00:01\r\u001b[K    50% |████████████████▎               | 501kB 46.4MB/s eta 0:00:01\r\u001b[K    51% |████████████████▋               | 512kB 45.1MB/s eta 0:00:01\r\u001b[K    52% |█████████████████               | 522kB 46.1MB/s eta 0:00:01\r\u001b[K    53% |█████████████████▎              | 532kB 45.4MB/s eta 0:00:01\r\u001b[K    54% |█████████████████▋              | 542kB 44.1MB/s eta 0:00:01\r\u001b[K    55% |██████████████████              | 552kB 46.7MB/s eta 0:00:01\r\u001b[K    57% |██████████████████▎             | 563kB 45.8MB/s eta 0:00:01\r\u001b[K    58% |██████████████████▋             | 573kB 44.5MB/s eta 0:00:01\r\u001b[K    59% |███████████████████             | 583kB 44.1MB/s eta 0:00:01\r\u001b[K    60% |███████████████████▎            | 593kB 42.5MB/s eta 0:00:01\r\u001b[K    61% |███████████████████▋            | 604kB 42.6MB/s eta 0:00:01\r\u001b[K    62% |████████████████████            | 614kB 45.5MB/s eta 0:00:01\r\u001b[K    63% |████████████████████▎           | 624kB 47.6MB/s eta 0:00:01\r\u001b[K    64% |████████████████████▋           | 634kB 49.0MB/s eta 0:00:01\r\u001b[K    65% |█████████████████████           | 645kB 49.4MB/s eta 0:00:01\r\u001b[K    66% |█████████████████████▎          | 655kB 47.9MB/s eta 0:00:01\r\u001b[K    67% |█████████████████████▋          | 665kB 38.1MB/s eta 0:00:01\r\u001b[K    68% |██████████████████████          | 675kB 38.3MB/s eta 0:00:01\r\u001b[K    69% |██████████████████████▎         | 686kB 38.9MB/s eta 0:00:01\r\u001b[K    70% |██████████████████████▋         | 696kB 40.3MB/s eta 0:00:01\r\u001b[K    71% |███████████████████████         | 706kB 40.0MB/s eta 0:00:01\r\u001b[K    72% |███████████████████████▎        | 716kB 40.1MB/s eta 0:00:01\r\u001b[K    73% |███████████████████████▋        | 727kB 39.6MB/s eta 0:00:01\r\u001b[K    74% |████████████████████████        | 737kB 39.6MB/s eta 0:00:01\r\u001b[K    75% |████████████████████████▎       | 747kB 40.2MB/s eta 0:00:01\r\u001b[K    76% |████████████████████████▋       | 757kB 41.7MB/s eta 0:00:01\r\u001b[K    77% |████████████████████████▉       | 768kB 54.8MB/s eta 0:00:01\r\u001b[K    78% |█████████████████████████▏      | 778kB 56.1MB/s eta 0:00:01\r\u001b[K    79% |█████████████████████████▌      | 788kB 55.8MB/s eta 0:00:01\r\u001b[K    80% |█████████████████████████▉      | 798kB 53.9MB/s eta 0:00:01\r\u001b[K    81% |██████████████████████████▏     | 808kB 54.3MB/s eta 0:00:01\r\u001b[K    82% |██████████████████████████▌     | 819kB 54.8MB/s eta 0:00:01\r\u001b[K    83% |██████████████████████████▉     | 829kB 53.6MB/s eta 0:00:01\r\u001b[K    85% |███████████████████████████▏    | 839kB 53.4MB/s eta 0:00:01\r\u001b[K    86% |███████████████████████████▌    | 849kB 52.0MB/s eta 0:00:01\r\u001b[K    87% |███████████████████████████▉    | 860kB 47.9MB/s eta 0:00:01\r\u001b[K    88% |████████████████████████████▏   | 870kB 47.0MB/s eta 0:00:01\r\u001b[K    89% |████████████████████████████▌   | 880kB 47.5MB/s eta 0:00:01\r\u001b[K    90% |████████████████████████████▉   | 890kB 47.4MB/s eta 0:00:01\r\u001b[K    91% |█████████████████████████████▏  | 901kB 48.4MB/s eta 0:00:01\r\u001b[K    92% |█████████████████████████████▌  | 911kB 48.7MB/s eta 0:00:01\r\u001b[K    93% |█████████████████████████████▉  | 921kB 48.1MB/s eta 0:00:01\r\u001b[K    94% |██████████████████████████████▏ | 931kB 49.1MB/s eta 0:00:01\r\u001b[K    95% |██████████████████████████████▌ | 942kB 48.7MB/s eta 0:00:01\r\u001b[K    96% |██████████████████████████████▉ | 952kB 49.6MB/s eta 0:00:01\r\u001b[K    97% |███████████████████████████████▏| 962kB 54.8MB/s eta 0:00:01\r\u001b[K    98% |███████████████████████████████▌| 972kB 55.5MB/s eta 0:00:01\r\u001b[K    99% |███████████████████████████████▉| 983kB 54.9MB/s eta 0:00:01\r\u001b[K    100% |████████████████████████████████| 993kB 20.6MB/s \n",
            "\u001b[?25h  Building wheel for PyDrive (setup.py) ... \u001b[?25ldone\n",
            "\u001b[?25h"
          ],
          "name": "stdout"
        }
      ]
    },
    {
      "metadata": {
        "id": "ny49RNfFUt1I",
        "colab_type": "code",
        "colab": {}
      },
      "cell_type": "code",
      "source": [
        "auth.authenticate_user()\n",
        "gauth = GoogleAuth()\n",
        "gauth.credentials = GoogleCredentials.get_application_default()\n",
        "drive = GoogleDrive(gauth)"
      ],
      "execution_count": 0,
      "outputs": []
    },
    {
      "metadata": {
        "id": "InTWGnWGVAr9",
        "colab_type": "code",
        "colab": {}
      },
      "cell_type": "code",
      "source": [
        "downloaded = drive.CreateFile({'id':'1QSdzW_SYr-l4bDFTdzXSTAQ1K8UwmIV3'}) # replace the id with id of file you want to access\n",
        "downloaded.GetContentFile('train.csv')  \n",
        "downloaded = drive.CreateFile({'id': '1O2gH6m3OFSgpiZf5-btl1zOE5sGXxpIy'})\n",
        "downloaded.GetContentFile('test.csv')  "
      ],
      "execution_count": 0,
      "outputs": []
    },
    {
      "metadata": {
        "id": "JASiSoKLV9t-",
        "colab_type": "code",
        "colab": {}
      },
      "cell_type": "code",
      "source": [
        "import pandas as pd\n",
        "import numpy as np\n",
        "from sklearn.utils import shuffle\n",
        "from sklearn.model_selection import train_test_split\n",
        "from sklearn.linear_model import LinearRegression\n",
        "\n",
        "\n",
        "df = pd.read_csv('train.csv')\n",
        "df_test = pd.read_csv('test.csv')\n",
        "# df_test = df_test.drop(['Unnamed: 0'], axis=1)\n",
        "df_test_x = df_test.drop(['Log_Date'], axis=1)\n",
        "# df = df.drop(['Log_Time', 'Log_Date', 'AL','Departure_Time','Departure_Date' ,\n",
        "#               'Price'], axis = 1 )\n",
        "df = df.dropna(axis=0)\n",
        "df = shuffle(df)\n",
        "df = df.reset_index()\n",
        "df['day'] = df['day'].astype('category').cat.codes\n",
        "df = df.drop('index', axis=1)\n",
        "train, test = train_test_split(df, test_size=0.2)\n",
        "test_y = test['Counts']\n",
        "test_x = test.drop(['Counts', 'day'], axis=1)\n",
        "train_y = train['Counts']\n",
        "train_x = train.drop(['Counts', 'day'], axis=1)\n"
      ],
      "execution_count": 0,
      "outputs": []
    },
    {
      "metadata": {
        "id": "uwxDJcESp5vB",
        "colab_type": "code",
        "outputId": "a371cb7c-cf58-47ad-885b-d80b94626b49",
        "colab": {
          "base_uri": "https://localhost:8080/",
          "height": 119
        }
      },
      "cell_type": "code",
      "source": [
        "print(df_test_x.head())\n",
        "# print(train_x.head())"
      ],
      "execution_count": 0,
      "outputs": [
        {
          "output_type": "stream",
          "text": [
            "   From  To  Month  Holiday  day\n",
            "0     3  30      1        1    4\n",
            "1     3  49      1        1    4\n",
            "2     3  66      1        1    4\n",
            "3     3  70      1        1    4\n",
            "4     4  70      1        1    4\n"
          ],
          "name": "stdout"
        }
      ]
    },
    {
      "metadata": {
        "id": "9cXLNBvZhQmU",
        "colab_type": "code",
        "colab": {}
      },
      "cell_type": "code",
      "source": [
        "from sklearn.ensemble import RandomForestRegressor\n",
        "rf = RandomForestRegressor(n_estimators = 1000, random_state = 42)\n",
        "rf.fit(train_x, train_y);\n"
      ],
      "execution_count": 0,
      "outputs": []
    },
    {
      "metadata": {
        "id": "9okceOy38Jfv",
        "colab_type": "code",
        "colab": {
          "base_uri": "https://localhost:8080/",
          "height": 34
        },
        "outputId": "dba28ccb-1f80-4823-d191-44714b13f28e"
      },
      "cell_type": "code",
      "source": [
        "predictions = rf.predict(test_x)\n",
        "errors = abs(predictions - test_y)\n",
        "print(np.mean(np.abs((predictions - test_y) / test_y)) * 100)"
      ],
      "execution_count": 60,
      "outputs": [
        {
          "output_type": "stream",
          "text": [
            "75.24118487920104\n"
          ],
          "name": "stdout"
        }
      ]
    },
    {
      "metadata": {
        "id": "9AJi5z1Lsg3i",
        "colab_type": "code",
        "colab": {}
      },
      "cell_type": "code",
      "source": [
        "df_test_x = df_test_x.drop(['day'], axis=1)\n",
        "predictions = rf.predict(df_test_x)\n",
        "# errors = abs(predictions - test_y)\n",
        "# print(np.mean(np.abs((predictions - test_y) / test_y)) * 100)"
      ],
      "execution_count": 0,
      "outputs": []
    },
    {
      "metadata": {
        "id": "NCYMchymDOW_",
        "colab_type": "code",
        "colab": {}
      },
      "cell_type": "code",
      "source": [
        "df_test['Sales'] = np.round(predictions)"
      ],
      "execution_count": 0,
      "outputs": []
    },
    {
      "metadata": {
        "id": "CX_2vh6QmEDv",
        "colab_type": "code",
        "outputId": "49e09b3d-8f47-402c-bf02-a79347ac746d",
        "colab": {
          "base_uri": "https://localhost:8080/",
          "height": 204
        }
      },
      "cell_type": "code",
      "source": [
        "df_test.head()"
      ],
      "execution_count": 0,
      "outputs": [
        {
          "output_type": "execute_result",
          "data": {
            "text/html": [
              "<div>\n",
              "<style scoped>\n",
              "    .dataframe tbody tr th:only-of-type {\n",
              "        vertical-align: middle;\n",
              "    }\n",
              "\n",
              "    .dataframe tbody tr th {\n",
              "        vertical-align: top;\n",
              "    }\n",
              "\n",
              "    .dataframe thead th {\n",
              "        text-align: right;\n",
              "    }\n",
              "</style>\n",
              "<table border=\"1\" class=\"dataframe\">\n",
              "  <thead>\n",
              "    <tr style=\"text-align: right;\">\n",
              "      <th></th>\n",
              "      <th>Log_Date</th>\n",
              "      <th>From</th>\n",
              "      <th>To</th>\n",
              "      <th>Month</th>\n",
              "      <th>Holiday</th>\n",
              "      <th>day</th>\n",
              "      <th>Sales</th>\n",
              "    </tr>\n",
              "  </thead>\n",
              "  <tbody>\n",
              "    <tr>\n",
              "      <th>0</th>\n",
              "      <td>1397/01/01</td>\n",
              "      <td>3</td>\n",
              "      <td>30</td>\n",
              "      <td>1</td>\n",
              "      <td>1</td>\n",
              "      <td>4</td>\n",
              "      <td>3.0</td>\n",
              "    </tr>\n",
              "    <tr>\n",
              "      <th>1</th>\n",
              "      <td>1397/01/01</td>\n",
              "      <td>3</td>\n",
              "      <td>49</td>\n",
              "      <td>1</td>\n",
              "      <td>1</td>\n",
              "      <td>4</td>\n",
              "      <td>4.0</td>\n",
              "    </tr>\n",
              "    <tr>\n",
              "      <th>2</th>\n",
              "      <td>1397/01/01</td>\n",
              "      <td>3</td>\n",
              "      <td>66</td>\n",
              "      <td>1</td>\n",
              "      <td>1</td>\n",
              "      <td>4</td>\n",
              "      <td>4.0</td>\n",
              "    </tr>\n",
              "    <tr>\n",
              "      <th>3</th>\n",
              "      <td>1397/01/01</td>\n",
              "      <td>3</td>\n",
              "      <td>70</td>\n",
              "      <td>1</td>\n",
              "      <td>1</td>\n",
              "      <td>4</td>\n",
              "      <td>12.0</td>\n",
              "    </tr>\n",
              "    <tr>\n",
              "      <th>4</th>\n",
              "      <td>1397/01/01</td>\n",
              "      <td>4</td>\n",
              "      <td>70</td>\n",
              "      <td>1</td>\n",
              "      <td>1</td>\n",
              "      <td>4</td>\n",
              "      <td>1.0</td>\n",
              "    </tr>\n",
              "  </tbody>\n",
              "</table>\n",
              "</div>"
            ],
            "text/plain": [
              "     Log_Date  From  To  Month  Holiday  day  Sales\n",
              "0  1397/01/01     3  30      1        1    4    3.0\n",
              "1  1397/01/01     3  49      1        1    4    4.0\n",
              "2  1397/01/01     3  66      1        1    4    4.0\n",
              "3  1397/01/01     3  70      1        1    4   12.0\n",
              "4  1397/01/01     4  70      1        1    4    1.0"
            ]
          },
          "metadata": {
            "tags": []
          },
          "execution_count": 51
        }
      ]
    },
    {
      "metadata": {
        "id": "gvtf-DcEDh74",
        "colab_type": "code",
        "colab": {}
      },
      "cell_type": "code",
      "source": [
        "from google.colab import files\n",
        "# files.download('test_result.csv') \n",
        "df_test.to_csv('test_result.csv', index = False)\n",
        "files.download('test_result.csv') \n"
      ],
      "execution_count": 0,
      "outputs": []
    },
    {
      "metadata": {
        "id": "eHcloLOF6BDP",
        "colab_type": "text"
      },
      "cell_type": "markdown",
      "source": [
        "**we run randomforest and linear regression till then.**"
      ]
    },
    {
      "metadata": {
        "id": "_-plY_Oe6VTC",
        "colab_type": "code",
        "colab": {
          "base_uri": "https://localhost:8080/",
          "height": 398
        },
        "outputId": "368662c0-bd87-4434-cfde-dc54587fa80c"
      },
      "cell_type": "code",
      "source": [
        "from sklearn.neighbors import KNeighborsRegressor\n",
        "import matplotlib.pyplot as plt\n",
        "\n",
        "\n",
        "test_y = test['Counts']\n",
        "test_x = test.drop(['Counts', 'day'], axis=1)\n",
        "train_y = train['Counts']\n",
        "train_x = train.drop(['Counts', 'day'], axis=1)\n",
        "\n",
        "def Mape(y_true , y_pred):\n",
        "  y_true, y_pred = np.array(y_true), np.array(y_pred)\n",
        "  return np.mean(np.abs((y_true - y_pred) / y_true)) * 100\n",
        "\n",
        "acc = []\n",
        "for k in range(1,20):\n",
        "  clf = KNeighborsRegressor(n_neighbors=k)\n",
        "  clf.fit(train_x, train_y)\n",
        "  sc = Mape(test_y , clf.predict(test_x))\n",
        "  acc.append(sc)\n",
        "plt.stem(acc)\n",
        "plt.xlabel('k')\n",
        "plt.ylabel('MAPE')\n",
        "plt.show()\n",
        "print(acc)"
      ],
      "execution_count": 59,
      "outputs": [
        {
          "output_type": "display_data",
          "data": {
            "image/png": "[encoded data removed]",
            "text/plain": [
              "<Figure size 576x396 with 1 Axes>"
            ]
          },
          "metadata": {
            "tags": []
          }
        },
        {
          "output_type": "stream",
          "text": [
            "[89.54755214781686, 82.91545114752581, 81.52482945955674, 81.91480824699316, 82.34893362159464, 83.50132046958666, 84.71457260453819, 85.41014259919758, 87.07903223561544, 88.96040096089888, 90.2339665703943, 90.59191359098969, 92.7913010382866, 94.5663943595816, 95.85260791777421, 97.43453064127785, 98.3682399831992, 100.88711581806847, 101.54162565764496]\n"
          ],
          "name": "stdout"
        }
      ]
    }
  ]
}